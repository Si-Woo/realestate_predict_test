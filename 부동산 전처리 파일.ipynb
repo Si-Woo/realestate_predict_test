{
 "cells": [
  {
   "cell_type": "code",
   "execution_count": 5,
   "metadata": {},
   "outputs": [
    {
     "data": {
      "application/vnd.jupyter.widget-view+json": {
       "model_id": "2b2af14ed95443d8859d1823c1ac6c09",
       "version_major": 2,
       "version_minor": 0
      },
      "text/plain": [
       "HBox(children=(IntProgress(value=0, max=176838), HTML(value='')))"
      ]
     },
     "metadata": {},
     "output_type": "display_data"
    },
    {
     "name": "stdout",
     "output_type": "stream",
     "text": [
      "\n",
      "(4590,) 개 만큼 drop함\n",
      "필지 가격의 MIN - MAX는 0.0 - 30300.0입니다.\n",
      "data Load Done!\n",
      "xy Load Done!\n"
     ]
    }
   ],
   "source": [
    "# 라이브러리 로드\n",
    "import pickle as pkl\n",
    "import pandas as pd\n",
    "import numpy as np\n",
    "from tqdm import tqdm_notebook\n",
    "\n",
    "\n",
    "\n",
    "def interpolated_data_load(link):\n",
    "    # 데이터 불러오기\n",
    "    data = '{}crw/non_err_data_convert5.pkl'.format(link)\n",
    "    with open(data, 'rb')as f:\n",
    "        data = pkl.load(f)\n",
    "    data.set_index('A0', inplace = True)\n",
    "    data.sort_index(inplace=True)\n",
    "\n",
    "    # 2010~2019만 사용 - 3개 이상 드랍, 2개 이하부터는 대충 채워줌ㅋ\n",
    "    price_data = data.iloc[:,:30].astype('float').T # 앞뒤 데이터의 기울기로 데이터 채우기\n",
    "    price_data = price_data/1000\n",
    "    for i in tqdm_notebook(price_data.columns) :\n",
    "        price_data[i] = price_data[i].interpolate()\n",
    "\n",
    "    price_data = price_data[20:30] # 마지막 10년도 데이터만 사용 (2010~2019)\n",
    "    #print(\"Drop 하는 양 :\", price_data[price_data.columns[(price_data.isnull().sum()>=3).tolist()]].shape[1])\n",
    "    price_data.drop(price_data.columns[(price_data.isnull().sum()>=3).tolist()], axis=1, inplace=True) # 3개 이상 비면 드랍\n",
    "    if price_data[9:].isnull().sum().sum() != 0: # 맨 뒤에는 null이 없는가?\n",
    "        print('2019에 null이 있다!')\n",
    "\n",
    "    price_data.iloc[1,:].fillna((price_data.iloc[2,:]*2) - price_data.iloc[3,:], inplace=True)\n",
    "    price_data.iloc[0,:].fillna((price_data.iloc[1,:]*2) - price_data.iloc[2,:], inplace=True)\n",
    "    if price_data.isnull().sum().sum() != 0 : # 전체 데이터에서 아직도 null이 있는가?\n",
    "        print('데이터에 아직도 null이 있다!')\n",
    "    \n",
    "    data.drop(data.columns[:20], axis=1, inplace=True)\n",
    "    data.iloc[:,:10] = price_data.astype('int').T\n",
    "    print(data.index[(data.iloc[:,:10].T.isnull().sum()>=1).tolist()].shape, \"개 만큼 drop함\")\n",
    "    data.drop(data.index[(data.iloc[:,:10].T.isnull().sum()>=1).tolist()], inplace=True) # price에서 drop한게 반영이 안돼있기때문\n",
    "    for i in data.columns[:10]:\n",
    "        data.loc[data[data.loc[:,i] < 0].index,i] = 0 # 가격이 음수일 경우 0으로 치환함(사실 급격히 감소하는 친구들 일 것임)\n",
    "\n",
    "    dmax = data[data.columns[:10]].max().max()\n",
    "    dmin = data[data.columns[:10]].min().min()\n",
    "    print(\"필지 가격의 MIN - MAX는 {} - {}입니다.\".format(dmin,dmax))\n",
    "    dropcal = []\n",
    "    for i in data.columns[14:]:\n",
    "        if len(data[i].unique())==1:\n",
    "            dropcal.append(i)\n",
    "    data.drop(dropcal, axis=1, inplace = True)\n",
    "    collist = data.columns[14:]\n",
    "    for i in data.columns[:10]: # Min-Max정규화\n",
    "        data[i] = (data[i]-dmin)/(dmax-dmin) \n",
    "        for j in collist:\n",
    "            data[j].replace(0, np.nan, inplace=True)\n",
    "            data['{}_{}'.format(i,j)] = data[i] * data[j]\n",
    "            data['{}_{}'.format(i,j)] = data['{}_{}'.format(i,j)] - data['{}_{}'.format(i,j)].mean(skipna=True)\n",
    "            data[j].replace(np.nan, 0, inplace=True)\n",
    "            data['{}_{}'.format(i,j)].replace(np.nan, 0, inplace=True)\n",
    "    data.drop(collist, axis=1, inplace = True)\n",
    "    \n",
    "    for i in data.columns[10:14]: # 이것들은 null값을 0으로 채워줌\n",
    "        if i == 'b_at_size' :\n",
    "            data.b_at_size = data.b_at_size.replace('',0) # err의 주범\n",
    "        data[i] = data[i].astype('float').fillna(float(0))\n",
    "        data[i] = (data[i]-data[i].min())/(data[i].max()-data[i].min()) # Min-Max정규화\n",
    "    \n",
    "    y = data[data.columns[:10]].copy(deep=True)\n",
    "    data.drop(data.columns[:10], axis=1, inplace=True)\n",
    "    print('data Load Done!')\n",
    "    return data , y\n",
    "\n",
    "\n",
    "\n",
    "def xy_load(link):\n",
    "    # 데이터 불러오기\n",
    "    xy = '{}crw/addr_xy.pkl'.format(link)\n",
    "    with open(xy, 'rb')as f:\n",
    "        xy = pkl.load(f)\n",
    "    xy.drop(33673, inplace = True) # 임의 중복 제거\n",
    "    xy.set_index('A0', inplace = True)\n",
    "    xy.sort_index(inplace=True)\n",
    "    xy = xy.loc[data.index, :]\n",
    "\n",
    "    xy['xcoord'] = xy['xcoord'].astype('float')\n",
    "    xy['ycoord'] = xy['ycoord'].astype('float')\n",
    "    xy['xcoord'] = xy['xcoord']-202000\n",
    "    xy['ycoord'] = xy['ycoord']-550000\n",
    "    print('xy Load Done!')\n",
    "    return xy\n",
    "\n",
    "\n",
    "\n",
    "link = 'D:/real/'\n",
    "data, y = interpolated_data_load(link)\n",
    "xy = xy_load(link)\n",
    "\n",
    "data_y = '{}adj/y.pkl'.format(link)\n",
    "with open(data_y, 'wb') as f : \n",
    "    pkl.dump(y, f)"
   ]
  },
  {
   "cell_type": "code",
   "execution_count": 9,
   "metadata": {
    "collapsed": true
   },
   "outputs": [
    {
     "data": {
      "application/vnd.jupyter.widget-view+json": {
       "model_id": "dcec26694dd84f8b8a38fec5622bb67d",
       "version_major": 2,
       "version_minor": 0
      },
      "text/plain": [
       "HBox(children=(IntProgress(value=0, max=131166), HTML(value='')))"
      ]
     },
     "metadata": {},
     "output_type": "display_data"
    },
    {
     "name": "stdout",
     "output_type": "stream",
     "text": [
      "\n",
      "['2010_la_공공주택지구', '2010_la_공장설립승인지역', '2010_la_공장설립제한지역', '2010_la_도시개발구역', '2010_la_문화지구', '2010_la_비행안전제3구역', '2010_la_사고지', '2010_la_역사문화환경보존지역', '2010_la_온천공보호구역', '2010_la_정비예정구역', '2010_la_토지구획정리사업지구', '2010_la_하천미분류', '2010_lu_도시자연공원구역', '2010_lu_박물관', '2010_lu_방송통신시설', '2010_lu_산업개발진흥지구', '2010_lu_연결녹지', '2010_lu_용도구역', '2010_lu_유통업무설비', '2010_lu_일반미관지구', '2010_lu_전용주거지역', '2010_lu_제1종전용주거지역', '2010_lu_준공업지역', '2010_lu_청소년수련시설', '2010_lu_특수도로', '2010_lu_특화경관지구', '2010_lu_폐기물처리시설', '2011_la_공공주택지구', '2011_la_공장설립승인지역', '2011_la_공장설립제한지역', '2011_la_도시개발구역', '2011_la_문화지구', '2011_la_비행안전제3구역', '2011_la_사고지', '2011_la_역사문화환경보존지역', '2011_la_온천공보호구역', '2011_la_정비예정구역', '2011_la_토지구획정리사업지구', '2011_lu_도시자연공원구역', '2011_lu_박물관', '2011_lu_방송통신시설', '2011_lu_산업개발진흥지구', '2011_lu_연결녹지', '2011_lu_용도구역', '2011_lu_유통업무설비', '2011_lu_일반미관지구', '2011_lu_전용주거지역', '2011_lu_제1종전용주거지역', '2011_lu_준공업지역', '2011_lu_청소년수련시설', '2011_lu_특수도로', '2011_lu_특화경관지구', '2011_lu_폐기물처리시설', '2012_la_공공주택지구', '2012_la_공장설립승인지역', '2012_la_공장설립제한지역', '2012_la_도시개발구역', '2012_la_문화지구', '2012_la_비행안전제3구역', '2012_la_사고지', '2012_la_역사문화환경보존지역', '2012_la_온천공보호구역', '2012_la_정비예정구역', '2012_la_토지구획정리사업지구', '2012_lu_도시자연공원구역', '2012_lu_박물관', '2012_lu_방송통신시설', '2012_lu_산업개발진흥지구', '2012_lu_수질오염방지시설', '2012_lu_연결녹지', '2012_lu_용도구역', '2012_lu_유통업무설비', '2012_lu_일반미관지구', '2012_lu_전용주거지역', '2012_lu_제1종전용주거지역', '2012_lu_준공업지역', '2012_lu_청소년수련시설', '2012_lu_특수도로', '2012_lu_특화경관지구', '2012_lu_폐기물처리시설', '2012_lu_하수종말처리시설', '2013_la_공공주택지구', '2013_la_공장설립승인지역', '2013_la_공장설립제한지역', '2013_la_도시개발구역', '2013_la_문화지구', '2013_la_비행안전제3구역', '2013_la_사고지', '2013_la_역사문화환경보존지역', '2013_la_온천공보호구역', '2013_la_정비예정구역', '2013_la_토지구획정리사업지구', '2013_lu_도시자연공원구역', '2013_lu_박물관', '2013_lu_방송통신시설', '2013_lu_산업개발진흥지구', '2013_lu_수질오염방지시설', '2013_lu_연결녹지', '2013_lu_용도구역', '2013_lu_유통업무설비', '2013_lu_일반미관지구', '2013_lu_전용주거지역', '2013_lu_제1종전용주거지역', '2013_lu_준공업지역', '2013_lu_청소년수련시설', '2013_lu_특수도로', '2013_lu_특화경관지구', '2013_lu_폐기물처리시설', '2014_la_공공주택지구', '2014_la_공장설립승인지역', '2014_la_공장설립제한지역', '2014_la_도시개발구역', '2014_la_문화지구', '2014_la_비행안전제3구역', '2014_la_사고지', '2014_la_역사문화환경보존지역', '2014_la_온천공보호구역', '2014_la_정비예정구역', '2014_la_토지구획정리사업지구', '2014_lu_도로시설', '2014_lu_도시자연공원구역', '2014_lu_박물관', '2014_lu_방송통신시설', '2014_lu_산업개발진흥지구', '2014_lu_수질오염방지시설', '2014_lu_연결녹지', '2014_lu_용도구역', '2014_lu_유통업무설비', '2014_lu_일반미관지구', '2014_lu_전용주거지역', '2014_lu_제1종전용주거지역', '2014_lu_준공업지역', '2014_lu_청소년수련시설', '2014_lu_특수도로', '2014_lu_특화경관지구', '2014_lu_폐기물처리시설', '2014_lu_하수종말처리시설', '2015_la_공공주택지구', '2015_la_공장설립승인지역', '2015_la_공장설립제한지역', '2015_la_도시개발구역', '2015_la_문화지구', '2015_la_비행안전제3구역', '2015_la_사고지', '2015_la_역사문화환경보존지역', '2015_la_온천공보호구역', '2015_la_정비예정구역', '2015_la_토지구획정리사업지구', '2015_lu_도로시설', '2015_lu_도시자연공원구역', '2015_lu_박물관', '2015_lu_방송통신시설', '2015_lu_산업개발진흥지구', '2015_lu_수질오염방지시설', '2015_lu_연결녹지', '2015_lu_용도구역', '2015_lu_유통업무설비', '2015_lu_일반미관지구', '2015_lu_전용주거지역', '2015_lu_제1종전용주거지역', '2015_lu_준공업지역', '2015_lu_청소년수련시설', '2015_lu_특수도로', '2015_lu_특화경관지구', '2015_lu_폐기물처리시설', '2016_la_공공주택지구', '2016_la_공장설립승인지역', '2016_la_공장설립제한지역', '2016_la_도시개발구역', '2016_la_문화지구', '2016_la_비행안전제3구역', '2016_la_사고지', '2016_la_역사문화환경보존지역', '2016_la_온천공보호구역', '2016_la_정비예정구역', '2016_la_토지구획정리사업지구', '2016_lu_도시자연공원구역', '2016_lu_박물관', '2016_lu_방송통신시설', '2016_lu_산업개발진흥지구', '2016_lu_수질오염방지시설', '2016_lu_연결녹지', '2016_lu_용도구역', '2016_lu_유통업무설비', '2016_lu_일반미관지구', '2016_lu_전용주거지역', '2016_lu_제1종전용주거지역', '2016_lu_준공업지역', '2016_lu_청소년수련시설', '2016_lu_특수도로', '2016_lu_특화경관지구', '2016_lu_폐기물처리시설', '2017_la_공공주택지구', '2017_la_공장설립승인지역', '2017_la_공장설립제한지역', '2017_la_도시개발구역', '2017_la_문화지구', '2017_la_비행안전제3구역', '2017_la_사고지', '2017_la_역사문화환경보존지역', '2017_la_온천공보호구역', '2017_la_정비예정구역', '2017_la_토지구획정리사업지구', '2017_lu_도시자연공원구역', '2017_lu_박물관', '2017_lu_방송통신시설', '2017_lu_산업개발진흥지구', '2017_lu_수질오염방지시설', '2017_lu_연결녹지', '2017_lu_용도구역', '2017_lu_유통업무설비', '2017_lu_일반미관지구', '2017_lu_전용주거지역', '2017_lu_제1종전용주거지역', '2017_lu_준공업지역', '2017_lu_청소년수련시설', '2017_lu_특수도로', '2017_lu_특화경관지구', '2017_lu_폐기물처리시설', '2018_la_공공주택지구', '2018_la_공장설립승인지역', '2018_la_공장설립제한지역', '2018_la_도시개발구역', '2018_la_문화지구', '2018_la_비행안전제3구역', '2018_la_사고지', '2018_la_역사문화환경보존지역', '2018_la_온천공보호구역', '2018_la_정비예정구역', '2018_la_토지구획정리사업지구', '2018_lu_도로시설', '2018_lu_도시자연공원구역', '2018_lu_박물관', '2018_lu_방송통신시설', '2018_lu_산업개발진흥지구', '2018_lu_수질오염방지시설', '2018_lu_연결녹지', '2018_lu_용도구역', '2018_lu_유통업무설비', '2018_lu_일반미관지구', '2018_lu_재활용시설', '2018_lu_전용주거지역', '2018_lu_제1종전용주거지역', '2018_lu_준공업지역', '2018_lu_청소년수련시설', '2018_lu_특수도로', '2018_lu_특화경관지구', '2018_lu_폐기물처리시설', '2019_la_공공주택지구', '2019_la_공장설립승인지역', '2019_la_공장설립제한지역', '2019_la_도시개발구역', '2019_la_문화지구', '2019_la_비행안전제3구역', '2019_la_사고지', '2019_la_역사문화환경보존지역', '2019_la_온천공보호구역', '2019_la_정비예정구역', '2019_la_토지구획정리사업지구', '2019_lu_도로시설', '2019_lu_도시자연공원구역', '2019_lu_박물관', '2019_lu_방송통신시설', '2019_lu_산업개발진흥지구', '2019_lu_수질오염방지시설', '2019_lu_연결녹지', '2019_lu_용도구역', '2019_lu_유통업무설비', '2019_lu_일반미관지구', '2019_lu_재활용시설', '2019_lu_전용주거지역', '2019_lu_제1종전용주거지역', '2019_lu_준공업지역', '2019_lu_청소년수련시설', '2019_lu_특수도로', '2019_lu_특화경관지구', '2019_lu_폐기물처리시설', '2019_lu_하수종말처리시설']  은 값이 1가지로 나타나기 때문에 드랍하겠음!\n"
     ]
    },
    {
     "data": {
      "application/vnd.jupyter.widget-view+json": {
       "model_id": "3f3eb61dda474779a10f1b94a7d6293e",
       "version_major": 2,
       "version_minor": 0
      },
      "text/plain": [
       "HBox(children=(IntProgress(value=0, max=131166), HTML(value='')))"
      ]
     },
     "metadata": {},
     "output_type": "display_data"
    },
    {
     "name": "stdout",
     "output_type": "stream",
     "text": [
      "\n",
      "['2010_la_개발제한구역', '2010_la_건축허가·착공제한지역', '2010_la_공공주택지구', '2010_la_공장설립승인지역', '2010_la_공장설립제한지역', '2010_la_도시개발구역', '2010_la_도시용도지역지구용도지역지구', '2010_la_문화지구', '2010_la_비행안전제3구역', '2010_la_사고지', '2010_la_시도지정문화재구역', '2010_la_역사도심', '2010_la_역사문화환경보존지역', '2010_la_온천공보호구역', '2010_la_정비예정구역', '2010_la_토지구획정리사업지구', '2010_la_하천미분류', '2010_lu_개발행위허가제한지역', '2010_lu_대학', '2010_lu_도로시설', '2010_lu_도시자연공원', '2010_lu_도시자연공원구역', '2010_lu_박물관', '2010_lu_방송통신시설', '2010_lu_보행자전용도로', '2010_lu_산업개발진흥지구', '2010_lu_수질오염방지시설', '2010_lu_연결녹지', '2010_lu_용도구역', '2010_lu_운동장', '2010_lu_유통업무설비', '2010_lu_일반도로', '2010_lu_일반미관지구', '2010_lu_전용주거지역', '2010_lu_제1종전용주거지역', '2010_lu_주간선도로', '2010_lu_준공업지역', '2010_lu_청소년수련시설', '2010_lu_체육시설', '2010_lu_특수도로', '2010_lu_특화경관지구', '2010_lu_폐기물처리시설', '2011_la_개발제한구역', '2011_la_건축허가·착공제한지역', '2011_la_공공주택지구', '2011_la_공장설립승인지역', '2011_la_공장설립제한지역', '2011_la_도시개발구역', '2011_la_도시용도지역지구용도지역지구', '2011_la_문화지구', '2011_la_비행안전제3구역', '2011_la_사고지', '2011_la_시도지정문화재구역', '2011_la_역사도심', '2011_la_역사문화환경보존지역', '2011_la_온천공보호구역', '2011_la_정비예정구역', '2011_la_토지구획정리사업지구', '2011_la_하천미분류', '2011_lu_개발행위허가제한지역', '2011_lu_대학', '2011_lu_도로시설', '2011_lu_도시자연공원', '2011_lu_도시자연공원구역', '2011_lu_박물관', '2011_lu_방송통신시설', '2011_lu_보행자전용도로', '2011_lu_산업개발진흥지구', '2011_lu_수질오염방지시설', '2011_lu_연결녹지', '2011_lu_용도구역', '2011_lu_운동장', '2011_lu_유통업무설비', '2011_lu_일반도로', '2011_lu_일반미관지구', '2011_lu_전용주거지역', '2011_lu_제1종전용주거지역', '2011_lu_주간선도로', '2011_lu_준공업지역', '2011_lu_청소년수련시설', '2011_lu_체육시설', '2011_lu_특수도로', '2011_lu_특화경관지구', '2011_lu_폐기물처리시설', '2012_la_개발제한구역', '2012_la_건축허가·착공제한지역', '2012_la_공공주택지구', '2012_la_공장설립승인지역', '2012_la_공장설립제한지역', '2012_la_도시개발구역', '2012_la_도시용도지역지구용도지역지구', '2012_la_문화지구', '2012_la_비행안전제3구역', '2012_la_사고지', '2012_la_시도지정문화재구역', '2012_la_역사도심', '2012_la_역사문화환경보존지역', '2012_la_온천공보호구역', '2012_la_정비예정구역', '2012_la_토지구획정리사업지구', '2012_la_하천미분류', '2012_lu_개발행위허가제한지역', '2012_lu_대학', '2012_lu_도로시설', '2012_lu_도시자연공원', '2012_lu_도시자연공원구역', '2012_lu_박물관', '2012_lu_방송통신시설', '2012_lu_보행자전용도로', '2012_lu_산업개발진흥지구', '2012_lu_수질오염방지시설', '2012_lu_연결녹지', '2012_lu_용도구역', '2012_lu_운동장', '2012_lu_유통업무설비', '2012_lu_일반도로', '2012_lu_일반미관지구', '2012_lu_전용주거지역', '2012_lu_제1종전용주거지역', '2012_lu_주간선도로', '2012_lu_준공업지역', '2012_lu_청소년수련시설', '2012_lu_체육시설', '2012_lu_특수도로', '2012_lu_특화경관지구', '2012_lu_폐기물처리시설', '2012_lu_하수종말처리시설', '2013_la_개발제한구역', '2013_la_건축허가·착공제한지역', '2013_la_공공주택지구', '2013_la_공장설립승인지역', '2013_la_공장설립제한지역', '2013_la_도시개발구역', '2013_la_도시용도지역지구용도지역지구', '2013_la_문화지구', '2013_la_비행안전제3구역', '2013_la_사고지', '2013_la_시도지정문화재구역', '2013_la_역사도심', '2013_la_역사문화환경보존지역', '2013_la_온천공보호구역', '2013_la_정비예정구역', '2013_la_토지구획정리사업지구', '2013_la_하천미분류', '2013_lu_개발행위허가제한지역', '2013_lu_대학', '2013_lu_도로시설', '2013_lu_도시자연공원', '2013_lu_도시자연공원구역', '2013_lu_박물관', '2013_lu_방송통신시설', '2013_lu_보행자전용도로', '2013_lu_산업개발진흥지구', '2013_lu_수질오염방지시설', '2013_lu_연결녹지', '2013_lu_용도구역', '2013_lu_운동장', '2013_lu_유통업무설비', '2013_lu_일반도로', '2013_lu_일반미관지구', '2013_lu_전용주거지역', '2013_lu_제1종전용주거지역', '2013_lu_주간선도로', '2013_lu_준공업지역', '2013_lu_청소년수련시설', '2013_lu_체육시설', '2013_lu_특수도로', '2013_lu_특화경관지구', '2013_lu_폐기물처리시설', '2014_la_개발제한구역', '2014_la_건축허가·착공제한지역', '2014_la_공공주택지구', '2014_la_공장설립승인지역', '2014_la_공장설립제한지역', '2014_la_도시개발구역', '2014_la_도시용도지역지구용도지역지구', '2014_la_문화지구', '2014_la_비행안전제3구역', '2014_la_사고지', '2014_la_시도지정문화재구역', '2014_la_역사도심', '2014_la_역사문화환경보존지역', '2014_la_온천공보호구역', '2014_la_정비예정구역', '2014_la_토지구획정리사업지구', '2014_la_하천미분류', '2014_lu_개발행위허가제한지역', '2014_lu_대학', '2014_lu_도로시설', '2014_lu_도시자연공원', '2014_lu_도시자연공원구역', '2014_lu_박물관', '2014_lu_방송통신시설', '2014_lu_보행자전용도로', '2014_lu_산업개발진흥지구', '2014_lu_수질오염방지시설', '2014_lu_연결녹지', '2014_lu_용도구역', '2014_lu_운동장', '2014_lu_유통업무설비', '2014_lu_일반도로', '2014_lu_일반미관지구', '2014_lu_전용주거지역', '2014_lu_제1종전용주거지역', '2014_lu_주간선도로', '2014_lu_준공업지역', '2014_lu_청소년수련시설', '2014_lu_체육시설', '2014_lu_특수도로', '2014_lu_특화경관지구', '2014_lu_폐기물처리시설', '2014_lu_하수종말처리시설', '2015_la_개발제한구역', '2015_la_건축허가·착공제한지역', '2015_la_공공주택지구', '2015_la_공장설립승인지역', '2015_la_공장설립제한지역', '2015_la_도시개발구역', '2015_la_도시용도지역지구용도지역지구', '2015_la_문화지구', '2015_la_비행안전제3구역', '2015_la_사고지', '2015_la_시도지정문화재구역', '2015_la_역사도심', '2015_la_역사문화환경보존지역', '2015_la_온천공보호구역', '2015_la_정비예정구역', '2015_la_토지구획정리사업지구', '2015_la_하천미분류', '2015_lu_개발행위허가제한지역', '2015_lu_대학', '2015_lu_도로시설', '2015_lu_도시자연공원', '2015_lu_도시자연공원구역', '2015_lu_박물관', '2015_lu_방송통신시설', '2015_lu_보행자전용도로', '2015_lu_산업개발진흥지구', '2015_lu_수질오염방지시설', '2015_lu_연결녹지', '2015_lu_용도구역', '2015_lu_운동장', '2015_lu_유통업무설비', '2015_lu_일반도로', '2015_lu_일반미관지구', '2015_lu_전용주거지역', '2015_lu_제1종전용주거지역', '2015_lu_주간선도로', '2015_lu_준공업지역', '2015_lu_청소년수련시설', '2015_lu_체육시설', '2015_lu_특수도로', '2015_lu_특화경관지구', '2015_lu_폐기물처리시설', '2016_la_개발제한구역', '2016_la_건축허가·착공제한지역', '2016_la_공공주택지구', '2016_la_공장설립승인지역', '2016_la_공장설립제한지역', '2016_la_도시개발구역', '2016_la_도시용도지역지구용도지역지구', '2016_la_문화지구', '2016_la_비행안전제3구역', '2016_la_사고지', '2016_la_시도지정문화재구역', '2016_la_역사도심', '2016_la_역사문화환경보존지역', '2016_la_온천공보호구역', '2016_la_정비예정구역', '2016_la_토지구획정리사업지구', '2016_la_하천미분류', '2016_lu_개발행위허가제한지역', '2016_lu_대학', '2016_lu_도로시설', '2016_lu_도시자연공원', '2016_lu_도시자연공원구역', '2016_lu_박물관', '2016_lu_방송통신시설', '2016_lu_보행자전용도로', '2016_lu_산업개발진흥지구', '2016_lu_수질오염방지시설', '2016_lu_연결녹지', '2016_lu_용도구역', '2016_lu_운동장', '2016_lu_유통업무설비', '2016_lu_일반도로', '2016_lu_일반미관지구', '2016_lu_전용주거지역', '2016_lu_제1종전용주거지역', '2016_lu_주간선도로', '2016_lu_준공업지역', '2016_lu_청소년수련시설', '2016_lu_체육시설', '2016_lu_특수도로', '2016_lu_특화경관지구', '2016_lu_폐기물처리시설', '2017_la_개발제한구역', '2017_la_건축허가·착공제한지역', '2017_la_공공주택지구', '2017_la_공장설립승인지역', '2017_la_공장설립제한지역', '2017_la_도시개발구역', '2017_la_도시용도지역지구용도지역지구', '2017_la_문화지구', '2017_la_비행안전제3구역', '2017_la_사고지', '2017_la_시도지정문화재구역', '2017_la_역사도심', '2017_la_역사문화환경보존지역', '2017_la_온천공보호구역', '2017_la_정비예정구역', '2017_la_토지구획정리사업지구', '2017_la_하천미분류', '2017_lu_개발행위허가제한지역', '2017_lu_대학', '2017_lu_도로시설', '2017_lu_도시자연공원', '2017_lu_도시자연공원구역', '2017_lu_박물관', '2017_lu_방송통신시설', '2017_lu_보행자전용도로', '2017_lu_산업개발진흥지구', '2017_lu_수질오염방지시설', '2017_lu_연결녹지', '2017_lu_용도구역', '2017_lu_운동장', '2017_lu_유통업무설비', '2017_lu_일반도로', '2017_lu_일반미관지구', '2017_lu_전용주거지역', '2017_lu_제1종전용주거지역', '2017_lu_주간선도로', '2017_lu_준공업지역', '2017_lu_청소년수련시설', '2017_lu_체육시설', '2017_lu_특수도로', '2017_lu_특화경관지구', '2017_lu_폐기물처리시설', '2018_la_개발제한구역', '2018_la_건축허가·착공제한지역', '2018_la_공공주택지구', '2018_la_공장설립승인지역', '2018_la_공장설립제한지역', '2018_la_도시개발구역', '2018_la_도시용도지역지구용도지역지구', '2018_la_문화지구', '2018_la_비행안전제3구역', '2018_la_사고지', '2018_la_시도지정문화재구역', '2018_la_역사도심', '2018_la_역사문화환경보존지역', '2018_la_온천공보호구역', '2018_la_정비예정구역', '2018_la_토지구획정리사업지구', '2018_la_하천미분류', '2018_lu_개발행위허가제한지역', '2018_lu_대학', '2018_lu_도로시설', '2018_lu_도시자연공원', '2018_lu_도시자연공원구역', '2018_lu_박물관', '2018_lu_방송통신시설', '2018_lu_보행자전용도로', '2018_lu_산업개발진흥지구', '2018_lu_수질오염방지시설', '2018_lu_연결녹지', '2018_lu_용도구역', '2018_lu_운동장', '2018_lu_유통업무설비', '2018_lu_일반도로', '2018_lu_일반미관지구', '2018_lu_재활용시설', '2018_lu_전용주거지역', '2018_lu_제1종전용주거지역', '2018_lu_주간선도로', '2018_lu_준공업지역', '2018_lu_청소년수련시설', '2018_lu_체육시설', '2018_lu_특수도로', '2018_lu_특화경관지구', '2018_lu_폐기물처리시설', '2019_la_개발제한구역', '2019_la_건축허가·착공제한지역', '2019_la_공공주택지구', '2019_la_공장설립승인지역', '2019_la_공장설립제한지역', '2019_la_도시개발구역', '2019_la_도시용도지역지구용도지역지구', '2019_la_문화지구', '2019_la_비행안전제3구역', '2019_la_사고지', '2019_la_시도지정문화재구역', '2019_la_역사도심', '2019_la_역사문화환경보존지역', '2019_la_온천공보호구역', '2019_la_정비예정구역', '2019_la_토지구획정리사업지구', '2019_la_하천미분류', '2019_lu_개발행위허가제한지역', '2019_lu_대학', '2019_lu_도로시설', '2019_lu_도시자연공원', '2019_lu_도시자연공원구역', '2019_lu_박물관', '2019_lu_방송통신시설', '2019_lu_보행자전용도로', '2019_lu_산업개발진흥지구', '2019_lu_수질오염방지시설', '2019_lu_연결녹지', '2019_lu_용도구역', '2019_lu_운동장', '2019_lu_유통업무설비', '2019_lu_일반도로', '2019_lu_일반미관지구', '2019_lu_재활용시설', '2019_lu_전용주거지역', '2019_lu_제1종전용주거지역', '2019_lu_주간선도로', '2019_lu_준공업지역', '2019_lu_청소년수련시설', '2019_lu_체육시설', '2019_lu_특수도로', '2019_lu_특화경관지구', '2019_lu_폐기물처리시설', '2019_lu_하수종말처리시설']  은 값이 1가지로 나타나기 때문에 드랍하겠음!\n"
     ]
    }
   ],
   "source": [
    "# 필요없는 거리열 지우기 - 두번 돌릴 필요 없음\n",
    "\n",
    "def make_xy_rg_table(data, xy, rg):\n",
    "    ddmglist = xy[xy['ddm']==1][['xcoord', 'ycoord']]\n",
    "    nonddmglist = xy[xy['ddm']==0][['xcoord', 'ycoord']]\n",
    "    nonddmglist.sort_index(inplace=True)\n",
    "    non_id = nonddmglist.index.tolist()\n",
    "\n",
    "    drop_id = []\n",
    "    non_dl = xy[['xcoord', 'ycoord']]\n",
    "    for j in tqdm_notebook(non_id) :\n",
    "        if sum(round((abs(ddmglist['xcoord']-nonddmglist.loc[str(j),'xcoord'])**2 + abs(ddmglist['ycoord']-nonddmglist.loc[str(j),'ycoord'])**2)**0.5,0).astype('int') < rg) == 0 :\n",
    "            drop_id.append(j)\n",
    "    xyt = xy\n",
    "    xyt = xyt.T\n",
    "    xyt = xyt[xyt.columns.difference(drop_id)].T\n",
    "    \n",
    "    data = data.T\n",
    "    data = data[data.columns.difference(drop_id)].T\n",
    "    \n",
    "    dropcal = []\n",
    "    for i in data.columns:\n",
    "        if len(data[i].unique())==1:\n",
    "            dropcal.append(i)\n",
    "    print(len(dropcal),\" 개 컬럼은 값이 1가지로 나타나기 때문에 드랍하겠음!\")\n",
    "    data.drop(dropcal, axis=1, inplace = True)\n",
    "    \n",
    "    return data, xyt\n",
    "\n",
    "\n",
    "\n",
    "rg = 1000 # 미만 반경 설정 (1000 or 500)\n",
    "new_rg_data, new_rg_xy = make_xy_rg_table(data, xy, rg) # 이 열 주석 풀면 실행\n",
    "\n",
    "xy_range = '{}adj/xy_{}.pkl'.format(link,rg)\n",
    "with open(xy_range, 'wb') as f : \n",
    "    pkl.dump(new_rg_xy, f)\n",
    "\n",
    "data_range = '{}adj/data_{}.pkl'.format(link,rg)\n",
    "with open(data_range, 'wb') as f : \n",
    "    pkl.dump(new_rg_data, f)\n",
    "\n",
    "    \n",
    "\n",
    "rg = 500 # 미만 반경 설정 (1000 or 500)\n",
    "new_rg_data, new_rg_xy = make_xy_rg_table(data, xy, rg) # 이 열 주석 풀면 실행\n",
    "\n",
    "xy_range = '{}adj/xy_{}.pkl'.format(link,rg)\n",
    "with open(xy_range, 'wb') as f : \n",
    "    pkl.dump(new_rg_xy, f)\n",
    "\n",
    "data_range = '{}adj/data_{}.pkl'.format(link,rg)\n",
    "with open(data_range, 'wb') as f : \n",
    "    pkl.dump(new_rg_data, f)"
   ]
  },
  {
   "cell_type": "code",
   "execution_count": 18,
   "metadata": {},
   "outputs": [
    {
     "name": "stdout",
     "output_type": "stream",
     "text": [
      "Done!\n"
     ]
    }
   ],
   "source": [
    "import geopandas as gpd\n",
    "import pandas as pd\n",
    "import pickle as pkl\n",
    "import numpy as np\n",
    "\n",
    "trp_xy = gpd.read_file('C:/Users/User_T816/Desktop/traffic_data/train_xy_shp.shp', encoding='euc-kr')\n",
    "trp_xy = pd.DataFrame(np.array(trp_xy), columns = trp_xy.columns)\n",
    "link = 'C:/Users/User_T816/Desktop/traffic_data/'\n",
    "with open('{}shp_trp_xy.pkl'.format(link), 'wb') as f : \n",
    "    pkl.dump(trp_xy, f)\n",
    "print('Done!')"
   ]
  },
  {
   "cell_type": "code",
   "execution_count": null,
   "metadata": {},
   "outputs": [],
   "source": []
  },
  {
   "cell_type": "code",
   "execution_count": null,
   "metadata": {},
   "outputs": [],
   "source": []
  },
  {
   "cell_type": "code",
   "execution_count": null,
   "metadata": {},
   "outputs": [],
   "source": []
  },
  {
   "cell_type": "code",
   "execution_count": null,
   "metadata": {},
   "outputs": [],
   "source": []
  },
  {
   "cell_type": "code",
   "execution_count": 12,
   "metadata": {
    "collapsed": true
   },
   "outputs": [
    {
     "data": {
      "application/vnd.jupyter.widget-view+json": {
       "model_id": "70f39fc4905b484099779eed4bd48be3",
       "version_major": 2,
       "version_minor": 0
      },
      "text/plain": [
       "HBox(children=(IntProgress(value=0, max=4000), HTML(value='')))"
      ]
     },
     "metadata": {},
     "output_type": "display_data"
    },
    {
     "name": "stdout",
     "output_type": "stream",
     "text": [
      "\n",
      "1/11 Save Done!\n"
     ]
    },
    {
     "data": {
      "application/vnd.jupyter.widget-view+json": {
       "model_id": "9c38f9d21ca64996b68a624e7f631cd6",
       "version_major": 2,
       "version_minor": 0
      },
      "text/plain": [
       "HBox(children=(IntProgress(value=0, max=4000), HTML(value='')))"
      ]
     },
     "metadata": {},
     "output_type": "display_data"
    },
    {
     "name": "stdout",
     "output_type": "stream",
     "text": [
      "\n",
      "2/11 Save Done!\n"
     ]
    },
    {
     "data": {
      "application/vnd.jupyter.widget-view+json": {
       "model_id": "e09417fa65914b2484707ccce11cc1b9",
       "version_major": 2,
       "version_minor": 0
      },
      "text/plain": [
       "HBox(children=(IntProgress(value=0, max=4000), HTML(value='')))"
      ]
     },
     "metadata": {},
     "output_type": "display_data"
    },
    {
     "name": "stdout",
     "output_type": "stream",
     "text": [
      "\n",
      "3/11 Save Done!\n"
     ]
    },
    {
     "data": {
      "application/vnd.jupyter.widget-view+json": {
       "model_id": "8089431596404acbbd5d9af7fc26d353",
       "version_major": 2,
       "version_minor": 0
      },
      "text/plain": [
       "HBox(children=(IntProgress(value=0, max=4000), HTML(value='')))"
      ]
     },
     "metadata": {},
     "output_type": "display_data"
    },
    {
     "name": "stdout",
     "output_type": "stream",
     "text": [
      "\n",
      "4/11 Save Done!\n"
     ]
    },
    {
     "data": {
      "application/vnd.jupyter.widget-view+json": {
       "model_id": "e8b4bf03c839407abf02fa67b633481c",
       "version_major": 2,
       "version_minor": 0
      },
      "text/plain": [
       "HBox(children=(IntProgress(value=0, max=4000), HTML(value='')))"
      ]
     },
     "metadata": {},
     "output_type": "display_data"
    },
    {
     "name": "stdout",
     "output_type": "stream",
     "text": [
      "\n",
      "5/11 Save Done!\n"
     ]
    },
    {
     "data": {
      "application/vnd.jupyter.widget-view+json": {
       "model_id": "9fba283d9b6c4d7099b3779eda4169b5",
       "version_major": 2,
       "version_minor": 0
      },
      "text/plain": [
       "HBox(children=(IntProgress(value=0, max=4000), HTML(value='')))"
      ]
     },
     "metadata": {},
     "output_type": "display_data"
    },
    {
     "name": "stdout",
     "output_type": "stream",
     "text": [
      "\n",
      "6/11 Save Done!\n"
     ]
    },
    {
     "data": {
      "application/vnd.jupyter.widget-view+json": {
       "model_id": "21ba2068fa92437aa35e3c333f799a0d",
       "version_major": 2,
       "version_minor": 0
      },
      "text/plain": [
       "HBox(children=(IntProgress(value=0, max=4000), HTML(value='')))"
      ]
     },
     "metadata": {},
     "output_type": "display_data"
    },
    {
     "name": "stdout",
     "output_type": "stream",
     "text": [
      "\n",
      "7/11 Save Done!\n"
     ]
    },
    {
     "data": {
      "application/vnd.jupyter.widget-view+json": {
       "model_id": "4cd6f3ca23634abc9bf4982ead059075",
       "version_major": 2,
       "version_minor": 0
      },
      "text/plain": [
       "HBox(children=(IntProgress(value=0, max=4000), HTML(value='')))"
      ]
     },
     "metadata": {},
     "output_type": "display_data"
    },
    {
     "name": "stdout",
     "output_type": "stream",
     "text": [
      "\n",
      "8/11 Save Done!\n"
     ]
    },
    {
     "data": {
      "application/vnd.jupyter.widget-view+json": {
       "model_id": "edd213ae03164bd1b8198658d436545e",
       "version_major": 2,
       "version_minor": 0
      },
      "text/plain": [
       "HBox(children=(IntProgress(value=0, max=4000), HTML(value='')))"
      ]
     },
     "metadata": {},
     "output_type": "display_data"
    },
    {
     "name": "stdout",
     "output_type": "stream",
     "text": [
      "\n",
      "9/11 Save Done!\n"
     ]
    },
    {
     "data": {
      "application/vnd.jupyter.widget-view+json": {
       "model_id": "fd4086f95290467ea0bbadc2e458f26f",
       "version_major": 2,
       "version_minor": 0
      },
      "text/plain": [
       "HBox(children=(IntProgress(value=0, max=4000), HTML(value='')))"
      ]
     },
     "metadata": {},
     "output_type": "display_data"
    },
    {
     "name": "stdout",
     "output_type": "stream",
     "text": [
      "\n",
      "10/11 Save Done!\n"
     ]
    },
    {
     "data": {
      "application/vnd.jupyter.widget-view+json": {
       "model_id": "d8dfe31e4cea45b9a6cc8d1180e12be3",
       "version_major": 2,
       "version_minor": 0
      },
      "text/plain": [
       "HBox(children=(IntProgress(value=0, max=1082), HTML(value='')))"
      ]
     },
     "metadata": {},
     "output_type": "display_data"
    },
    {
     "name": "stdout",
     "output_type": "stream",
     "text": [
      "\n",
      "11/11 Save Done!\n"
     ]
    },
    {
     "data": {
      "application/vnd.jupyter.widget-view+json": {
       "model_id": "fe5b07cf766048ec8319b6f67e893420",
       "version_major": 2,
       "version_minor": 0
      },
      "text/plain": [
       "HBox(children=(IntProgress(value=0, max=4000), HTML(value='')))"
      ]
     },
     "metadata": {},
     "output_type": "display_data"
    },
    {
     "name": "stdout",
     "output_type": "stream",
     "text": [
      "\n",
      "1/11 Save Done!\n"
     ]
    },
    {
     "data": {
      "application/vnd.jupyter.widget-view+json": {
       "model_id": "5718fa33d7e94dfdbf103b6fbf1b62a4",
       "version_major": 2,
       "version_minor": 0
      },
      "text/plain": [
       "HBox(children=(IntProgress(value=0, max=4000), HTML(value='')))"
      ]
     },
     "metadata": {},
     "output_type": "display_data"
    },
    {
     "name": "stdout",
     "output_type": "stream",
     "text": [
      "\n",
      "2/11 Save Done!\n"
     ]
    },
    {
     "data": {
      "application/vnd.jupyter.widget-view+json": {
       "model_id": "529a586b7f4e424199eaeea43386114b",
       "version_major": 2,
       "version_minor": 0
      },
      "text/plain": [
       "HBox(children=(IntProgress(value=0, max=4000), HTML(value='')))"
      ]
     },
     "metadata": {},
     "output_type": "display_data"
    },
    {
     "name": "stdout",
     "output_type": "stream",
     "text": [
      "\n",
      "3/11 Save Done!\n"
     ]
    },
    {
     "data": {
      "application/vnd.jupyter.widget-view+json": {
       "model_id": "a0a075a5a21b43339b2f04598e560971",
       "version_major": 2,
       "version_minor": 0
      },
      "text/plain": [
       "HBox(children=(IntProgress(value=0, max=4000), HTML(value='')))"
      ]
     },
     "metadata": {},
     "output_type": "display_data"
    },
    {
     "name": "stdout",
     "output_type": "stream",
     "text": [
      "\n",
      "4/11 Save Done!\n"
     ]
    },
    {
     "data": {
      "application/vnd.jupyter.widget-view+json": {
       "model_id": "4356d333cd064e51a4b454fe9e5dc6d7",
       "version_major": 2,
       "version_minor": 0
      },
      "text/plain": [
       "HBox(children=(IntProgress(value=0, max=4000), HTML(value='')))"
      ]
     },
     "metadata": {},
     "output_type": "display_data"
    },
    {
     "name": "stdout",
     "output_type": "stream",
     "text": [
      "\n",
      "5/11 Save Done!\n"
     ]
    },
    {
     "data": {
      "application/vnd.jupyter.widget-view+json": {
       "model_id": "acfa7376d063409a92a9c49d6ae3d4dc",
       "version_major": 2,
       "version_minor": 0
      },
      "text/plain": [
       "HBox(children=(IntProgress(value=0, max=4000), HTML(value='')))"
      ]
     },
     "metadata": {},
     "output_type": "display_data"
    },
    {
     "name": "stdout",
     "output_type": "stream",
     "text": [
      "\n",
      "6/11 Save Done!\n"
     ]
    },
    {
     "data": {
      "application/vnd.jupyter.widget-view+json": {
       "model_id": "2aa3595a9ad94cc4ad5e8be01b5055c2",
       "version_major": 2,
       "version_minor": 0
      },
      "text/plain": [
       "HBox(children=(IntProgress(value=0, max=4000), HTML(value='')))"
      ]
     },
     "metadata": {},
     "output_type": "display_data"
    },
    {
     "name": "stdout",
     "output_type": "stream",
     "text": [
      "\n",
      "7/11 Save Done!\n"
     ]
    },
    {
     "data": {
      "application/vnd.jupyter.widget-view+json": {
       "model_id": "3fcce8fbfc3445c3b49024aab5a86dc1",
       "version_major": 2,
       "version_minor": 0
      },
      "text/plain": [
       "HBox(children=(IntProgress(value=0, max=4000), HTML(value='')))"
      ]
     },
     "metadata": {},
     "output_type": "display_data"
    },
    {
     "name": "stdout",
     "output_type": "stream",
     "text": [
      "\n",
      "8/11 Save Done!\n"
     ]
    },
    {
     "data": {
      "application/vnd.jupyter.widget-view+json": {
       "model_id": "6ca0add59af14aeabd9739b389f87067",
       "version_major": 2,
       "version_minor": 0
      },
      "text/plain": [
       "HBox(children=(IntProgress(value=0, max=4000), HTML(value='')))"
      ]
     },
     "metadata": {},
     "output_type": "display_data"
    },
    {
     "name": "stdout",
     "output_type": "stream",
     "text": [
      "\n",
      "9/11 Save Done!\n"
     ]
    },
    {
     "data": {
      "application/vnd.jupyter.widget-view+json": {
       "model_id": "e77603604082471799bc193d8509ae29",
       "version_major": 2,
       "version_minor": 0
      },
      "text/plain": [
       "HBox(children=(IntProgress(value=0, max=4000), HTML(value='')))"
      ]
     },
     "metadata": {},
     "output_type": "display_data"
    },
    {
     "name": "stdout",
     "output_type": "stream",
     "text": [
      "\n",
      "10/11 Save Done!\n"
     ]
    },
    {
     "data": {
      "application/vnd.jupyter.widget-view+json": {
       "model_id": "5abfcd5dd5ff4a8d9a7daa30047e1b3a",
       "version_major": 2,
       "version_minor": 0
      },
      "text/plain": [
       "HBox(children=(IntProgress(value=0, max=1082), HTML(value='')))"
      ]
     },
     "metadata": {},
     "output_type": "display_data"
    },
    {
     "name": "stdout",
     "output_type": "stream",
     "text": [
      "\n",
      "11/11 Save Done!\n"
     ]
    },
    {
     "data": {
      "text/plain": [
       "0"
      ]
     },
     "execution_count": 12,
     "metadata": {},
     "output_type": "execute_result"
    }
   ],
   "source": [
    "# 라이브러리 로드\n",
    "import pickle as pkl\n",
    "import pandas as pd\n",
    "import numpy as np\n",
    "from tqdm import tqdm_notebook\n",
    "\n",
    "\n",
    "\n",
    "def make_adj(xy, rg):\n",
    "    # 데이터 나누기\n",
    "    ddmglist = xy[xy['ddm']==1][['xcoord', 'ycoord']]\n",
    "    ddmglist.sort_index(inplace=True)\n",
    "    inid = ddmglist.index.tolist()\n",
    "\n",
    "    in_devide = []\n",
    "    for i in range(len(inid)):\n",
    "        if i == 0 :\n",
    "            cache = 0\n",
    "        elif i%4000 == 0 :\n",
    "            in_devide.append(inid[cache:i])\n",
    "            cache = i\n",
    "        if i==len(inid)-1:\n",
    "            in_devide.append(inid[cache:])\n",
    "\n",
    "\n",
    "    # 실제 연산 부분\n",
    "    for n,i in enumerate(in_devide) : # 세로로 긴 직사각형\n",
    "        dl = xy[['xcoord', 'ycoord']] # dl(dividelist)초기화\n",
    "        for j in tqdm_notebook(i) :\n",
    "            dl[j] = (((abs(dl['xcoord']-dl.loc[str(j),'xcoord'])**2 + abs(dl['ycoord']-dl.loc[str(j),'ycoord'])**2)**0.5)/rg).apply(lambda x:0 if x>=1 else 1-x)\n",
    "        dl.drop(['xcoord', 'ycoord'], axis=1, inplace=True)\n",
    "        check=dl\n",
    "        with open('D:/real/adj/ddmg_adj_{}_{}.pkl'.format(rg, n), 'wb') as f : \n",
    "            pkl.dump(dl, f)\n",
    "        print('{}/{} Save Done!'.format(n+1, len(in_devide)))\n",
    "    return 0\n",
    "\n",
    "\n",
    "\n",
    "# 데이터 불러오기\n",
    "link = 'D:/real/'\n",
    "rg = 1000\n",
    "\n",
    "data_range = '{}adj/data_{}.pkl'.format(link,rg)\n",
    "with open(data_range, 'rb')as f:\n",
    "    data = pkl.load(f)\n",
    "data.sort_index(inplace=True)\n",
    "\n",
    "xy_range = '{}adj/xy_{}.pkl'.format(link, rg)\n",
    "with open(xy_range, 'rb')as f:\n",
    "    xy = pkl.load(f)\n",
    "xy.sort_index(inplace=True)\n",
    "\n",
    "make_adj(xy, rg)\n",
    "\n",
    "\n",
    "\n",
    "# 데이터 불러오기\n",
    "link = 'D:/real/'\n",
    "rg = 500\n",
    "\n",
    "data_range = '{}adj/data_{}.pkl'.format(link,rg)\n",
    "with open(data_range, 'rb')as f:\n",
    "    data = pkl.load(f)\n",
    "data.sort_index(inplace=True)\n",
    "\n",
    "xy_range = '{}adj/xy_{}.pkl'.format(link, rg)\n",
    "with open(xy_range, 'rb')as f:\n",
    "    xy = pkl.load(f)\n",
    "xy.sort_index(inplace=True)\n",
    "\n",
    "make_adj(xy, rg)"
   ]
  },
  {
   "cell_type": "code",
   "execution_count": null,
   "metadata": {},
   "outputs": [],
   "source": []
  },
  {
   "cell_type": "code",
   "execution_count": null,
   "metadata": {},
   "outputs": [],
   "source": []
  },
  {
   "cell_type": "code",
   "execution_count": null,
   "metadata": {},
   "outputs": [],
   "source": []
  },
  {
   "cell_type": "code",
   "execution_count": null,
   "metadata": {},
   "outputs": [],
   "source": []
  },
  {
   "cell_type": "code",
   "execution_count": null,
   "metadata": {},
   "outputs": [],
   "source": []
  },
  {
   "cell_type": "code",
   "execution_count": null,
   "metadata": {
    "scrolled": true
   },
   "outputs": [],
   "source": []
  },
  {
   "cell_type": "code",
   "execution_count": 1,
   "metadata": {
    "collapsed": true
   },
   "outputs": [
    {
     "data": {
      "application/vnd.jupyter.widget-view+json": {
       "model_id": "921e805ec2e64711baee842bbc02a80d",
       "version_major": 2,
       "version_minor": 0
      },
      "text/plain": [
       "HBox(children=(IntProgress(value=0, max=1306), HTML(value='')))"
      ]
     },
     "metadata": {},
     "output_type": "display_data"
    },
    {
     "name": "stdout",
     "output_type": "stream",
     "text": [
      "\n"
     ]
    },
    {
     "data": {
      "application/vnd.jupyter.widget-view+json": {
       "model_id": "c3cdca184da1406989e85e8cf132db4f",
       "version_major": 2,
       "version_minor": 0
      },
      "text/plain": [
       "HBox(children=(IntProgress(value=0, max=1306), HTML(value='')))"
      ]
     },
     "metadata": {},
     "output_type": "display_data"
    },
    {
     "name": "stdout",
     "output_type": "stream",
     "text": [
      "\n"
     ]
    },
    {
     "data": {
      "application/vnd.jupyter.widget-view+json": {
       "model_id": "42843dce263547398d7a232c9fb7c778",
       "version_major": 2,
       "version_minor": 0
      },
      "text/plain": [
       "HBox(children=(IntProgress(value=0, max=1306), HTML(value='')))"
      ]
     },
     "metadata": {},
     "output_type": "display_data"
    },
    {
     "name": "stdout",
     "output_type": "stream",
     "text": [
      "\n"
     ]
    },
    {
     "data": {
      "application/vnd.jupyter.widget-view+json": {
       "model_id": "f0876e31869e40819d72440c4a698491",
       "version_major": 2,
       "version_minor": 0
      },
      "text/plain": [
       "HBox(children=(IntProgress(value=0, max=1306), HTML(value='')))"
      ]
     },
     "metadata": {},
     "output_type": "display_data"
    },
    {
     "name": "stdout",
     "output_type": "stream",
     "text": [
      "\n"
     ]
    },
    {
     "data": {
      "application/vnd.jupyter.widget-view+json": {
       "model_id": "f3d674eda17146149a7a9cf3a2f960f1",
       "version_major": 2,
       "version_minor": 0
      },
      "text/plain": [
       "HBox(children=(IntProgress(value=0, max=1306), HTML(value='')))"
      ]
     },
     "metadata": {},
     "output_type": "display_data"
    },
    {
     "name": "stdout",
     "output_type": "stream",
     "text": [
      "\n"
     ]
    },
    {
     "data": {
      "application/vnd.jupyter.widget-view+json": {
       "model_id": "bb4e5212a5014967b5a1859b9d30ff31",
       "version_major": 2,
       "version_minor": 0
      },
      "text/plain": [
       "HBox(children=(IntProgress(value=0, max=1306), HTML(value='')))"
      ]
     },
     "metadata": {},
     "output_type": "display_data"
    },
    {
     "name": "stdout",
     "output_type": "stream",
     "text": [
      "\n"
     ]
    },
    {
     "data": {
      "application/vnd.jupyter.widget-view+json": {
       "model_id": "152317c512d442838ecb4670ef81d31b",
       "version_major": 2,
       "version_minor": 0
      },
      "text/plain": [
       "HBox(children=(IntProgress(value=0, max=1306), HTML(value='')))"
      ]
     },
     "metadata": {},
     "output_type": "display_data"
    },
    {
     "name": "stdout",
     "output_type": "stream",
     "text": [
      "\n"
     ]
    },
    {
     "data": {
      "application/vnd.jupyter.widget-view+json": {
       "model_id": "3b99d61505fe4c1caf334201fd2b3dc8",
       "version_major": 2,
       "version_minor": 0
      },
      "text/plain": [
       "HBox(children=(IntProgress(value=0, max=1306), HTML(value='')))"
      ]
     },
     "metadata": {},
     "output_type": "display_data"
    },
    {
     "name": "stdout",
     "output_type": "stream",
     "text": [
      "\n"
     ]
    },
    {
     "data": {
      "application/vnd.jupyter.widget-view+json": {
       "model_id": "3415152ca3f449998434c47a42fbf0ec",
       "version_major": 2,
       "version_minor": 0
      },
      "text/plain": [
       "HBox(children=(IntProgress(value=0, max=1306), HTML(value='')))"
      ]
     },
     "metadata": {},
     "output_type": "display_data"
    },
    {
     "name": "stdout",
     "output_type": "stream",
     "text": [
      "\n"
     ]
    },
    {
     "data": {
      "application/vnd.jupyter.widget-view+json": {
       "model_id": "ae1286c2e67e4c7898ad239e6ce35b14",
       "version_major": 2,
       "version_minor": 0
      },
      "text/plain": [
       "HBox(children=(IntProgress(value=0, max=1306), HTML(value='')))"
      ]
     },
     "metadata": {},
     "output_type": "display_data"
    },
    {
     "name": "stdout",
     "output_type": "stream",
     "text": [
      "\n"
     ]
    },
    {
     "data": {
      "application/vnd.jupyter.widget-view+json": {
       "model_id": "b7b91cf1b3f140bb84b084983af3547b",
       "version_major": 2,
       "version_minor": 0
      },
      "text/plain": [
       "HBox(children=(IntProgress(value=0, max=1306), HTML(value='')))"
      ]
     },
     "metadata": {},
     "output_type": "display_data"
    },
    {
     "name": "stdout",
     "output_type": "stream",
     "text": [
      "\n"
     ]
    }
   ],
   "source": [
    "# 라이브러리 로드\n",
    "import pickle as pkl\n",
    "import pandas as pd\n",
    "import numpy as np\n",
    "from tqdm import tqdm_notebook\n",
    "\n",
    "\n",
    "\n",
    "link = 'D:/real/'\n",
    "rg = 1000\n",
    "\n",
    "data_range = '{}adj/data_{}.pkl'.format(link,rg)\n",
    "with open(data_range, 'rb')as f:\n",
    "    data = pkl.load(f)\n",
    "data.sort_index(inplace=True)\n",
    "\n",
    "col_name = []\n",
    "for i in data.columns:\n",
    "    col_name.append('{}_A'.format(i))\n",
    "col_name.append('N')\n",
    "A2 = pd.DataFrame(columns=col_name)\n",
    "\n",
    "for i in range(0,10+1) :  # 0부터 10까지\n",
    "    with open('{}adj/ddmg_adj_{}_{}.pkl'.format(link, rg, i), 'rb')as f:\n",
    "        A = pkl.load(f).T\n",
    "    in_name = A.index\n",
    "    A = np.array(A)\n",
    "    cache=[]\n",
    "    for j in tqdm_notebook(np.array(data.T)) :\n",
    "        cache.append((A*j).sum(axis=1))\n",
    "        \n",
    "    A = pd.DataFrame(A).T\n",
    "    for k in A.columns:\n",
    "        A[k] = A[k].apply(lambda x:x if x!=0 else np.nan)\n",
    "    cache.append(A.count().tolist())\n",
    "    \n",
    "    A2 = pd.concat([A2, pd.DataFrame(cache, index=col_name, columns=in_name).T])\n",
    "\n",
    "    #break # 이거만 지우면 전체 돌아감\n",
    "    with open('{}adj/data_XA_{}_{}.pkl'.format(link, rg, i), 'wb') as f : \n",
    "        pkl.dump(A2, f) # 중간저장용...\n",
    "\n",
    "with open('{}adj/data_XA_{}.pkl'.format(link, rg), 'wb') as f : \n",
    "    pkl.dump(A2, f) # 최종저장\n"
   ]
  },
  {
   "cell_type": "code",
   "execution_count": null,
   "metadata": {},
   "outputs": [],
   "source": [
    "link = 'D:/real/'\n",
    "rg = 1000 # 500\n",
    "with open('{}adj/data_{}.pkl'.format(link, rg), 'rb')as f:\n",
    "    d1 = pkl.load(f).T\n",
    "with open('{}adj/data_XA_{}.pkl'.format(link, rg), 'rb')as f:\n",
    "    d2 = pkl.load(f).T\n",
    "with open('{}adj/y.pkl'.format(link), 'rb')as f:\n",
    "    y = pkl.load(f)\n",
    "data = pd.concat([d1[d2.columns], d2]).T\n",
    "data.iloc[:,-1] = (data.iloc[:,-1]-data.iloc[:,-1].min())/(data.iloc[:,-1].max()-data.iloc[:,-1].min())\n",
    "y = y.loc[data.index,:]\n",
    "\n",
    "\n",
    "with open('{}real_data_preped/data_{}.pkl'.format(link,rg), 'wb') as f : \n",
    "    pkl.dump(data, f)\n",
    "with open('{}real_data_preped/y_{}.pkl'.format(link,rg), 'wb') as f : \n",
    "    pkl.dump(y, f)"
   ]
  },
  {
   "cell_type": "code",
   "execution_count": 2,
   "metadata": {
    "collapsed": true
   },
   "outputs": [
    {
     "data": {
      "application/vnd.jupyter.widget-view+json": {
       "model_id": "51947cc61c1941bb8d4578e925d0d535",
       "version_major": 2,
       "version_minor": 0
      },
      "text/plain": [
       "HBox(children=(IntProgress(value=0, max=1159), HTML(value='')))"
      ]
     },
     "metadata": {},
     "output_type": "display_data"
    },
    {
     "name": "stdout",
     "output_type": "stream",
     "text": [
      "\n"
     ]
    },
    {
     "data": {
      "application/vnd.jupyter.widget-view+json": {
       "model_id": "d521b47e462045febbc0741c19f4f8e6",
       "version_major": 2,
       "version_minor": 0
      },
      "text/plain": [
       "HBox(children=(IntProgress(value=0, max=1159), HTML(value='')))"
      ]
     },
     "metadata": {},
     "output_type": "display_data"
    },
    {
     "name": "stdout",
     "output_type": "stream",
     "text": [
      "\n"
     ]
    },
    {
     "data": {
      "application/vnd.jupyter.widget-view+json": {
       "model_id": "a5fd83402d7b463b838ebb263547357b",
       "version_major": 2,
       "version_minor": 0
      },
      "text/plain": [
       "HBox(children=(IntProgress(value=0, max=1159), HTML(value='')))"
      ]
     },
     "metadata": {},
     "output_type": "display_data"
    },
    {
     "name": "stdout",
     "output_type": "stream",
     "text": [
      "\n"
     ]
    },
    {
     "data": {
      "application/vnd.jupyter.widget-view+json": {
       "model_id": "ddb1a53d44d24319a861f697187da892",
       "version_major": 2,
       "version_minor": 0
      },
      "text/plain": [
       "HBox(children=(IntProgress(value=0, max=1159), HTML(value='')))"
      ]
     },
     "metadata": {},
     "output_type": "display_data"
    },
    {
     "name": "stdout",
     "output_type": "stream",
     "text": [
      "\n"
     ]
    },
    {
     "data": {
      "application/vnd.jupyter.widget-view+json": {
       "model_id": "bc792a07ab894f62a75cbc31eca12325",
       "version_major": 2,
       "version_minor": 0
      },
      "text/plain": [
       "HBox(children=(IntProgress(value=0, max=1159), HTML(value='')))"
      ]
     },
     "metadata": {},
     "output_type": "display_data"
    },
    {
     "name": "stdout",
     "output_type": "stream",
     "text": [
      "\n"
     ]
    },
    {
     "data": {
      "application/vnd.jupyter.widget-view+json": {
       "model_id": "2c7a7b5887344068b4c59605da5f8760",
       "version_major": 2,
       "version_minor": 0
      },
      "text/plain": [
       "HBox(children=(IntProgress(value=0, max=1159), HTML(value='')))"
      ]
     },
     "metadata": {},
     "output_type": "display_data"
    },
    {
     "name": "stdout",
     "output_type": "stream",
     "text": [
      "\n"
     ]
    },
    {
     "data": {
      "application/vnd.jupyter.widget-view+json": {
       "model_id": "f98bdbcfaa464f5194de1d8ed1e26bb0",
       "version_major": 2,
       "version_minor": 0
      },
      "text/plain": [
       "HBox(children=(IntProgress(value=0, max=1159), HTML(value='')))"
      ]
     },
     "metadata": {},
     "output_type": "display_data"
    },
    {
     "name": "stdout",
     "output_type": "stream",
     "text": [
      "\n"
     ]
    },
    {
     "data": {
      "application/vnd.jupyter.widget-view+json": {
       "model_id": "bd9734b5a5474f46a99d5fd7a054a57f",
       "version_major": 2,
       "version_minor": 0
      },
      "text/plain": [
       "HBox(children=(IntProgress(value=0, max=1159), HTML(value='')))"
      ]
     },
     "metadata": {},
     "output_type": "display_data"
    },
    {
     "name": "stdout",
     "output_type": "stream",
     "text": [
      "\n"
     ]
    },
    {
     "data": {
      "application/vnd.jupyter.widget-view+json": {
       "model_id": "330ec63e3de6489fa6fc41e7c08880fa",
       "version_major": 2,
       "version_minor": 0
      },
      "text/plain": [
       "HBox(children=(IntProgress(value=0, max=1159), HTML(value='')))"
      ]
     },
     "metadata": {},
     "output_type": "display_data"
    },
    {
     "name": "stdout",
     "output_type": "stream",
     "text": [
      "\n"
     ]
    },
    {
     "data": {
      "application/vnd.jupyter.widget-view+json": {
       "model_id": "b564a809cb3d46f1b77e58ae4187c658",
       "version_major": 2,
       "version_minor": 0
      },
      "text/plain": [
       "HBox(children=(IntProgress(value=0, max=1159), HTML(value='')))"
      ]
     },
     "metadata": {},
     "output_type": "display_data"
    },
    {
     "name": "stdout",
     "output_type": "stream",
     "text": [
      "\n"
     ]
    },
    {
     "data": {
      "application/vnd.jupyter.widget-view+json": {
       "model_id": "6e5782ccb6644c36b9513fa5f058fd11",
       "version_major": 2,
       "version_minor": 0
      },
      "text/plain": [
       "HBox(children=(IntProgress(value=0, max=1159), HTML(value='')))"
      ]
     },
     "metadata": {},
     "output_type": "display_data"
    },
    {
     "name": "stdout",
     "output_type": "stream",
     "text": [
      "\n"
     ]
    }
   ],
   "source": [
    "# 라이브러리 로드\n",
    "import pickle as pkl\n",
    "import pandas as pd\n",
    "import numpy as np\n",
    "from tqdm import tqdm_notebook\n",
    "\n",
    "\n",
    "\n",
    "link = 'D:/real/'\n",
    "rg = 500\n",
    "\n",
    "data_range = '{}adj/data_{}.pkl'.format(link,rg)\n",
    "with open(data_range, 'rb')as f:\n",
    "    data = pkl.load(f)\n",
    "data.sort_index(inplace=True)\n",
    "\n",
    "col_name = []\n",
    "for i in data.columns:\n",
    "    col_name.append('{}_A'.format(i))\n",
    "col_name.append('N')\n",
    "A2 = pd.DataFrame(columns=col_name)\n",
    "\n",
    "for i in range(0,10+1) :  # 0부터 10까지\n",
    "    with open('{}adj/ddmg_adj_{}_{}.pkl'.format(link, rg, i), 'rb')as f:\n",
    "        A = pkl.load(f).T\n",
    "    in_name = A.index\n",
    "    A = np.array(A)\n",
    "    cache=[]\n",
    "    for j in tqdm_notebook(np.array(data.T)) :\n",
    "        cache.append((A*j).sum(axis=1))\n",
    "        \n",
    "    A = pd.DataFrame(A).T\n",
    "    for k in A.columns:\n",
    "        A[k] = A[k].apply(lambda x:x if x!=0 else np.nan)\n",
    "    cache.append(A.count().tolist())\n",
    "    \n",
    "    A2 = pd.concat([A2, pd.DataFrame(cache, index=col_name, columns=in_name).T])\n",
    "\n",
    "    #break # 이거만 지우면 전체 돌아감\n",
    "    with open('{}adj/data_XA_{}_{}.pkl'.format(link, rg, i), 'wb') as f : \n",
    "        pkl.dump(A2, f) # 중간저장용...\n",
    "\n",
    "with open('{}adj/data_XA_{}.pkl'.format(link, rg), 'wb') as f : \n",
    "    pkl.dump(A2, f) # 최종저장\n"
   ]
  },
  {
   "cell_type": "code",
   "execution_count": 3,
   "metadata": {},
   "outputs": [],
   "source": [
    "link = 'D:/real/'\n",
    "rg = 500 # 1000\n",
    "with open('{}adj/data_{}.pkl'.format(link, rg), 'rb')as f:\n",
    "    d1 = pkl.load(f).T\n",
    "with open('{}adj/data_XA_{}.pkl'.format(link, rg), 'rb')as f:\n",
    "    d2 = pkl.load(f).T\n",
    "with open('{}adj/y.pkl'.format(link), 'rb')as f:\n",
    "    y = pkl.load(f)\n",
    "data = pd.concat([d1[d2.columns], d2]).T\n",
    "data.iloc[:,-1] = (data.iloc[:,-1]-data.iloc[:,-1].min())/(data.iloc[:,-1].max()-data.iloc[:,-1].min())\n",
    "y = y.loc[data.index,:]\n",
    "\n",
    "\n",
    "with open('{}real_data_preped/data_{}.pkl'.format(link,rg), 'wb') as f : \n",
    "    pkl.dump(data, f)\n",
    "with open('{}real_data_preped/y_{}.pkl'.format(link,rg), 'wb') as f : \n",
    "    pkl.dump(y, f)"
   ]
  },
  {
   "cell_type": "code",
   "execution_count": null,
   "metadata": {},
   "outputs": [],
   "source": [
    "# 데이터 전처리 끗! 데이터 읽기는 다음과 같음\n",
    "# 데이터를 한줄씩 읽을 수 있도록 reshape 해야함!!\n",
    "\n",
    "link = 'D:/real/'\n",
    "rg = 1000 # 500\n",
    "with open('{}real_data_preped/data_{}.pkl'.format(link,rg), 'rb')as f:\n",
    "    X = pkl.load(f)\n",
    "with open('{}real_data_preped/y_{}.pkl'.format(link,rg), 'rb')as f:\n",
    "    Y = pkl.load(f)\n"
   ]
  },
  {
   "cell_type": "code",
   "execution_count": 4,
   "metadata": {},
   "outputs": [],
   "source": [
    "# 데이터 전처리 끗! 데이터 읽기는 다음과 같음\n",
    "# 데이터를 한줄씩 읽을 수 있도록 reshape 해야함!!\n",
    "\n",
    "link = 'D:/real/'\n",
    "rg = 500 # 500\n",
    "with open('{}real_data_preped/data_{}.pkl'.format(link,rg), 'rb')as f:\n",
    "    X = pkl.load(f)\n",
    "with open('{}real_data_preped/y_{}.pkl'.format(link,rg), 'rb')as f:\n",
    "    Y = pkl.load(f)\n"
   ]
  },
  {
   "cell_type": "code",
   "execution_count": null,
   "metadata": {},
   "outputs": [],
   "source": []
  },
  {
   "cell_type": "code",
   "execution_count": null,
   "metadata": {},
   "outputs": [],
   "source": []
  },
  {
   "cell_type": "code",
   "execution_count": null,
   "metadata": {},
   "outputs": [],
   "source": []
  },
  {
   "cell_type": "code",
   "execution_count": null,
   "metadata": {},
   "outputs": [],
   "source": []
  }
 ],
 "metadata": {
  "kernelspec": {
   "display_name": "Python 3 (ipykernel)",
   "language": "python",
   "name": "python3"
  },
  "language_info": {
   "codemirror_mode": {
    "name": "ipython",
    "version": 3
   },
   "file_extension": ".py",
   "mimetype": "text/x-python",
   "name": "python",
   "nbconvert_exporter": "python",
   "pygments_lexer": "ipython3",
   "version": "3.9.7"
  }
 },
 "nbformat": 4,
 "nbformat_minor": 2
}
